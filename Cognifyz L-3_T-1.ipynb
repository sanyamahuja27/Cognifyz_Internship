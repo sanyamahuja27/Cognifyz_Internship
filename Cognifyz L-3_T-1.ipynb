{
 "cells": [
  {
   "cell_type": "markdown",
   "id": "e5ac05b4",
   "metadata": {},
   "source": [
    "# Level-3_Task-1\n",
    "## Predictive Modeling\n",
    "\n",
    "### Build a regression model to predict the aggregate rating of a restaurant based on available features.\n",
    "\n",
    "### Split the dataset into training and testing sets and evaluate the model's performance using appropriate metrics.\n",
    "\n",
    "### Experiment with different algorithms (e.g., linear regression, decision trees, random forest) and compare their performance."
   ]
  },
  {
   "cell_type": "code",
   "execution_count": 1,
   "id": "320091b0",
   "metadata": {},
   "outputs": [
    {
     "name": "stdout",
     "output_type": "stream",
     "text": [
      "Columns with non-numeric values:\n",
      "['Restaurant Name', 'City', 'Address', 'Locality', 'Locality Verbose', 'Cuisines', 'Currency', 'Has Table booking', 'Has Online delivery', 'Is delivering now', 'Switch to order menu', 'Rating color', 'Rating text']\n",
      "Linear Regression - MSE: 1.58, R2 Score: 0.31\n",
      "Decision Tree Regression - MSE: 0.15, R2 Score: 0.93\n",
      "Random Forest Regression - MSE: 0.08, R2 Score: 0.97\n"
     ]
    }
   ],
   "source": [
    "import pandas as pd\n",
    "from sklearn.model_selection import train_test_split\n",
    "from sklearn.linear_model import LinearRegression\n",
    "from sklearn.tree import DecisionTreeRegressor\n",
    "from sklearn.ensemble import RandomForestRegressor\n",
    "from sklearn.metrics import mean_squared_error, r2_score\n",
    "import warnings\n",
    "\n",
    "warnings.filterwarnings(\"ignore\")\n",
    "\n",
    "df = pd.read_csv('Cognifyz Dataset.csv')\n",
    "\n",
    "non_numeric_cols = df.select_dtypes(exclude=[float, int]).columns.tolist()\n",
    "print(\"Columns with non-numeric values:\")\n",
    "print(non_numeric_cols)\n",
    "\n",
    "df.drop(columns=non_numeric_cols, inplace=True)\n",
    "\n",
    "X = df.drop(columns=['Aggregate rating']) \n",
    "y = df['Aggregate rating']\n",
    "\n",
    "# Splitting the data into training and testing sets\n",
    "X_train, X_test, y_train, y_test = train_test_split(X, y, test_size=0.2, random_state=42)\n",
    "\n",
    "# Function to train and evaluate a regression model\n",
    "def train_and_evaluate_model(model):\n",
    "    model.fit(X_train, y_train)\n",
    "    y_pred = model.predict(X_test)\n",
    "    mse = mean_squared_error(y_test, y_pred)\n",
    "    r2 = r2_score(y_test, y_pred)\n",
    "    return mse, r2\n",
    "\n",
    "# Training and evaluating Linear Regression model\n",
    "linear_regression = LinearRegression()\n",
    "mse_lr, r2_lr = train_and_evaluate_model(linear_regression)\n",
    "\n",
    "# Training and evaluating Decision Tree Regression model\n",
    "decision_tree = DecisionTreeRegressor()\n",
    "mse_dt, r2_dt = train_and_evaluate_model(decision_tree)\n",
    "\n",
    "# Training and evaluating Random Forest Regression model\n",
    "random_forest = RandomForestRegressor()\n",
    "mse_rf, r2_rf = train_and_evaluate_model(random_forest)\n",
    "\n",
    "# Print the performance metrics\n",
    "print(f\"Linear Regression - MSE: {mse_lr:.2f}, R2 Score: {r2_lr:.2f}\")\n",
    "print(f\"Decision Tree Regression - MSE: {mse_dt:.2f}, R2 Score: {r2_dt:.2f}\")\n",
    "print(f\"Random Forest Regression - MSE: {mse_rf:.2f}, R2 Score: {r2_rf:.2f}\")"
   ]
  },
  {
   "cell_type": "code",
   "execution_count": null,
   "id": "77be5838",
   "metadata": {},
   "outputs": [],
   "source": []
  }
 ],
 "metadata": {
  "kernelspec": {
   "display_name": "Python 3 (ipykernel)",
   "language": "python",
   "name": "python3"
  },
  "language_info": {
   "codemirror_mode": {
    "name": "ipython",
    "version": 3
   },
   "file_extension": ".py",
   "mimetype": "text/x-python",
   "name": "python",
   "nbconvert_exporter": "python",
   "pygments_lexer": "ipython3",
   "version": "3.9.13"
  }
 },
 "nbformat": 4,
 "nbformat_minor": 5
}
